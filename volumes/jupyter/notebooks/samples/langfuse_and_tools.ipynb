{
 "cells": [
  {
   "cell_type": "markdown",
   "id": "f4fff4d9-f568-4d8a-ab70-e167b5c9a899",
   "metadata": {},
   "source": [
    "# Settings"
   ]
  },
  {
   "cell_type": "markdown",
   "id": "5f352a74-b27d-4f10-9f2f-7306a7c8fdc3",
   "metadata": {},
   "source": [
    "### Import libraries"
   ]
  },
  {
   "cell_type": "code",
   "execution_count": 1,
   "id": "cf70c04b-79c7-4cb6-b25f-a2feff050c64",
   "metadata": {
    "editable": true,
    "slideshow": {
     "slide_type": ""
    },
    "tags": []
   },
   "outputs": [],
   "source": [
    "import os\n",
    "from typing import Union\n",
    "from langfuse import Langfuse\n",
    "from langchain_core.tools import tool\n",
    "from langgraph.prebuilt import ToolNode\n",
    "from langchain_ollama import ChatOllama\n",
    "from langfuse.callback import CallbackHandler\n",
    "from langchain_core.messages import HumanMessage"
   ]
  },
  {
   "cell_type": "markdown",
   "id": "5b6cb75e-7ea1-4efb-96f3-9c2f2618114e",
   "metadata": {},
   "source": [
    "### Initialize the LLM"
   ]
  },
  {
   "cell_type": "code",
   "execution_count": 2,
   "id": "fdd18642-9967-4f00-8abe-4b1adb2ef0fe",
   "metadata": {},
   "outputs": [],
   "source": [
    "ollama = ChatOllama(\n",
    "    base_url=\"http://ollama:11434\",\n",
    "    model=\"llama3.2\",\n",
    "    temperature=0.7\n",
    ")"
   ]
  },
  {
   "cell_type": "markdown",
   "id": "f5003247-ba1e-456d-8110-4005d8e3c0b3",
   "metadata": {},
   "source": [
    "### Connecting with LangFuse"
   ]
  },
  {
   "cell_type": "code",
   "execution_count": 3,
   "id": "7b852e81-4637-499c-9856-ae6425dfd958",
   "metadata": {},
   "outputs": [],
   "source": [
    "langfuse = Langfuse()\n",
    "langfuse_handler = CallbackHandler()"
   ]
  },
  {
   "cell_type": "markdown",
   "id": "7c1fe90b-6c46-4634-85b7-535994741451",
   "metadata": {},
   "source": [
    "### Defining tools"
   ]
  },
  {
   "cell_type": "code",
   "execution_count": 4,
   "id": "f3e46697-0f63-46a4-8d8f-862e2a38b3bf",
   "metadata": {},
   "outputs": [],
   "source": [
    "@tool\n",
    "def math_operation(\n",
    "        a: Union[int, float],\n",
    "        b: Union[int, float],\n",
    "        operation: str,\n",
    "):\n",
    "    \"\"\"\n",
    "    Perform a mathematical operation on two numbers.\n",
    "\n",
    "    Args:\n",
    "        a (Union[int, float]): The first number in the operation.\n",
    "        b (Union[int, float]): The second number in the operation.\n",
    "        operation (str): A string representing the mathematical operation.\n",
    "                          Supported operations: '+', '-', '*', '/'.\n",
    "\n",
    "    Returns:\n",
    "        Union[int, float]: The result of the operation, which will be an integer or float depending on the input.\n",
    "\n",
    "    Raises:\n",
    "        ValueError: If the operation is not a valid mathematical operator.\n",
    "        ZeroDivisionError: If division by zero is attempted.\n",
    "    \n",
    "    Example:\n",
    "        >>> math_operation(a=3, b=4, operation=\"-\")\n",
    "        -1\n",
    "        >>> math_operation(a=5, b=2, operation=\"/\")\n",
    "        2.5\n",
    "    \"\"\"\n",
    "    op: str = f\"{a}{operation}{b}\"\n",
    "    return eval(op)"
   ]
  },
  {
   "cell_type": "markdown",
   "id": "c326f40f-de30-46f7-b150-986ab88aaa06",
   "metadata": {},
   "source": [
    "### Adding tools to the LLM"
   ]
  },
  {
   "cell_type": "code",
   "execution_count": 5,
   "id": "6c25a82a-a786-4b23-918f-0892f9d66d2e",
   "metadata": {},
   "outputs": [],
   "source": [
    "ollama_enhanced = ollama.bind_tools(my_tools:=[math_operation])\n",
    "tool_node = ToolNode(my_tools)"
   ]
  },
  {
   "cell_type": "markdown",
   "id": "39bc5941-44f5-4277-8f89-79015a80e192",
   "metadata": {},
   "source": [
    "## Using the model"
   ]
  },
  {
   "cell_type": "code",
   "execution_count": 6,
   "id": "712cec43-eb05-4ae7-90e7-5f8c7257c7eb",
   "metadata": {},
   "outputs": [],
   "source": [
    "tool_call = ollama_enhanced.invoke(\n",
    "    [HumanMessage(content=f\"Me acabo de acordar que tenia 5 platano, pero ahora solo veo 2 😔 ¿cuantos me hacen falta?\")], \n",
    "    config={\"callbacks\": [langfuse_handler]}\n",
    ")"
   ]
  },
  {
   "cell_type": "code",
   "execution_count": 7,
   "id": "bff360ea-aafc-429a-bdb8-31930126edbb",
   "metadata": {},
   "outputs": [],
   "source": [
    "response = tool_node.invoke({\"messages\": [tool_call]})"
   ]
  },
  {
   "cell_type": "code",
   "execution_count": 8,
   "id": "e7829054-0aca-4a20-9b67-2a1c7fb5cbe6",
   "metadata": {},
   "outputs": [
    {
     "data": {
      "text/plain": [
       "{'messages': [ToolMessage(content='7', name='math_operation', tool_call_id='1c77754a-1488-4f57-970c-e32d872df119')]}"
      ]
     },
     "execution_count": 8,
     "metadata": {},
     "output_type": "execute_result"
    }
   ],
   "source": [
    "response"
   ]
  },
  {
   "cell_type": "code",
   "execution_count": null,
   "id": "ff23b73d-ce85-4d2a-8ce7-142f9a848ef4",
   "metadata": {},
   "outputs": [],
   "source": []
  }
 ],
 "metadata": {
  "kernelspec": {
   "display_name": "Python 3 (ipykernel)",
   "language": "python",
   "name": "python3"
  },
  "language_info": {
   "codemirror_mode": {
    "name": "ipython",
    "version": 3
   },
   "file_extension": ".py",
   "mimetype": "text/x-python",
   "name": "python",
   "nbconvert_exporter": "python",
   "pygments_lexer": "ipython3",
   "version": "3.11.6"
  }
 },
 "nbformat": 4,
 "nbformat_minor": 5
}
