{
 "cells": [
  {
   "cell_type": "code",
   "execution_count": 5,
   "id": "d63ace64-998c-472d-a2f1-33575e544195",
   "metadata": {},
   "outputs": [],
   "source": [
    "from ollama import Client"
   ]
  },
  {
   "cell_type": "code",
   "execution_count": 6,
   "id": "bf077039-3b16-44cf-8a3b-6644068aa45d",
   "metadata": {},
   "outputs": [],
   "source": [
    "# ollama pull llama3.2\n",
    "\n",
    "client = Client(\n",
    "  host='http://ollama:11434'\n",
    ")\n",
    "response = client.chat(model='llama3.2', messages=[\n",
    "  {\n",
    "    'role': 'user',\n",
    "    'content': 'Donde está mi llama?',\n",
    "  },\n",
    "])"
   ]
  },
  {
   "cell_type": "code",
   "execution_count": 7,
   "id": "e7d49464-7b68-401b-902a-cd3a68de336b",
   "metadata": {},
   "outputs": [
    {
     "data": {
      "text/plain": [
       "ChatResponse(model='llama3.2', created_at='2024-11-24T04:37:25.59860213Z', done=True, done_reason='stop', total_duration=17655440925, load_duration=5855571128, prompt_eval_count=31, prompt_eval_duration=2903000000, eval_count=92, eval_duration=8853000000, message=Message(role='assistant', content='Lo siento, pero necesito más información para ayudarte. ¿Podrías proporcionarme algunos detalles sobre tu llama?\\n\\n* ¿Cuál es el nombre de tu llama?\\n* ¿En dónde vives?\\n* ¿Cuándo crees que la lastimarás a última vista?\\n\\nCon esta información, puedo tratar de ayudarte a encontrar a tu llama o proporcionarte consejos sobre cómo actuar en caso de una emergencia.', images=None, tool_calls=None))"
      ]
     },
     "execution_count": 7,
     "metadata": {},
     "output_type": "execute_result"
    }
   ],
   "source": [
    "response"
   ]
  }
 ],
 "metadata": {
  "kernelspec": {
   "display_name": "Python 3 (ipykernel)",
   "language": "python",
   "name": "python3"
  },
  "language_info": {
   "codemirror_mode": {
    "name": "ipython",
    "version": 3
   },
   "file_extension": ".py",
   "mimetype": "text/x-python",
   "name": "python",
   "nbconvert_exporter": "python",
   "pygments_lexer": "ipython3",
   "version": "3.11.6"
  }
 },
 "nbformat": 4,
 "nbformat_minor": 5
}
