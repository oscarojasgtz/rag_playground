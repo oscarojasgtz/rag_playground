{
 "cells": [
  {
   "cell_type": "code",
   "execution_count": 1,
   "id": "d63ace64-998c-472d-a2f1-33575e544195",
   "metadata": {},
   "outputs": [],
   "source": [
    "from ollama import Client"
   ]
  },
  {
   "cell_type": "code",
   "execution_count": 4,
   "id": "bf077039-3b16-44cf-8a3b-6644068aa45d",
   "metadata": {},
   "outputs": [],
   "source": [
    "client = Client(\n",
    "  host='http://ollama:11434'\n",
    ")\n",
    "response = client.chat(model='llama3.2', messages=[\n",
    "  {\n",
    "    'role': 'user',\n",
    "    'content': 'Tengo antojo de un mote de queso con patacones, quieres?',\n",
    "  },\n",
    "])"
   ]
  },
  {
   "cell_type": "code",
   "execution_count": 5,
   "id": "e7d49464-7b68-401b-902a-cd3a68de336b",
   "metadata": {},
   "outputs": [
    {
     "data": {
      "text/plain": [
       "ChatResponse(model='llama3.2', created_at='2024-11-24T14:56:08.937034962Z', done=True, done_reason='stop', total_duration=19221643467, load_duration=36934333, prompt_eval_count=44, prompt_eval_duration=1776000000, eval_count=168, eval_duration=17407000000, message=Message(role='assistant', content='¡Claro que sí! Un mote de queso con patacones suena delicioso. Me encantaría ayudarte a elaborar una receta para este plato tradicional de Colombia.\\n\\nUn mote de queso es un plato típico de la región de La Guajira, en el norte de Colombia, que se compone de una crema espesa hecha con queso rallado y leche condensada. Las patacones son patatas fritas horneadas al aire libre hasta que estén crujientes.\\n\\n¿Quieres que te dé la receta para hacer un mote de queso con patacones? Puedo proporcionarte los ingredientes y las instrucciones necesarias para preparar este plato tradicional.', images=None, tool_calls=None))"
      ]
     },
     "execution_count": 5,
     "metadata": {},
     "output_type": "execute_result"
    }
   ],
   "source": [
    "response"
   ]
  }
 ],
 "metadata": {
  "kernelspec": {
   "display_name": "Python 3 (ipykernel)",
   "language": "python",
   "name": "python3"
  },
  "language_info": {
   "codemirror_mode": {
    "name": "ipython",
    "version": 3
   },
   "file_extension": ".py",
   "mimetype": "text/x-python",
   "name": "python",
   "nbconvert_exporter": "python",
   "pygments_lexer": "ipython3",
   "version": "3.11.6"
  }
 },
 "nbformat": 4,
 "nbformat_minor": 5
}
