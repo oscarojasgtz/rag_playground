{
 "cells": [
  {
   "cell_type": "code",
   "execution_count": 1,
   "id": "d63ace64-998c-472d-a2f1-33575e544195",
   "metadata": {},
   "outputs": [],
   "source": [
    "from ollama import Client"
   ]
  },
  {
   "cell_type": "code",
   "execution_count": 2,
   "id": "bf077039-3b16-44cf-8a3b-6644068aa45d",
   "metadata": {},
   "outputs": [],
   "source": [
    "client = Client(\n",
    "  host='http://ollama:11434'\n",
    ")\n",
    "response = client.chat(model='llama3.2', messages=[\n",
    "  {\n",
    "    'role': 'user',\n",
    "    'content': 'Tengo antojo de un mote de queso con patacones, quieres?',\n",
    "  },\n",
    "])"
   ]
  },
  {
   "cell_type": "code",
   "execution_count": 3,
   "id": "e7d49464-7b68-401b-902a-cd3a68de336b",
   "metadata": {},
   "outputs": [
    {
     "data": {
      "text/plain": [
       "ChatResponse(model='llama3.2', created_at='2024-11-28T15:41:09.404407338Z', done=True, done_reason='stop', total_duration=20270350176, load_duration=3824712752, prompt_eval_count=44, prompt_eval_duration=1992000000, eval_count=145, eval_duration=14451000000, message=Message(role='assistant', content='¡Claro que sí! Un mote de queso con patacones suena delicioso. ¿Qué tipo de queso te gustaría utilizar? ¿Un queso fresco como el mozzarella o algo más espeso y cremoso como el queso feta?\\n\\nY qué tal si añadimos algunos ingredientes adicionales para darle un toque especial a nuestro plato? Podríamos agregar algunas aceitunas, tomate cherry o pimentón para darle un sabor más intenso.\\n\\n¿Qué te parece si le damos un poco de empeño y creamos una receta para este delicioso mote de queso con patacones?', images=None, tool_calls=None))"
      ]
     },
     "execution_count": 3,
     "metadata": {},
     "output_type": "execute_result"
    }
   ],
   "source": [
    "response"
   ]
  },
  {
   "cell_type": "code",
   "execution_count": null,
   "id": "2df0d58c-d98a-4a0d-a11d-b13610799219",
   "metadata": {},
   "outputs": [],
   "source": []
  }
 ],
 "metadata": {
  "kernelspec": {
   "display_name": "Python 3 (ipykernel)",
   "language": "python",
   "name": "python3"
  },
  "language_info": {
   "codemirror_mode": {
    "name": "ipython",
    "version": 3
   },
   "file_extension": ".py",
   "mimetype": "text/x-python",
   "name": "python",
   "nbconvert_exporter": "python",
   "pygments_lexer": "ipython3",
   "version": "3.11.6"
  }
 },
 "nbformat": 4,
 "nbformat_minor": 5
}
